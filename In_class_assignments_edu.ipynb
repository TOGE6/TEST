{
  "nbformat": 4,
  "nbformat_minor": 0,
  "metadata": {
    "colab": {
      "provenance": [],
      "authorship_tag": "ABX9TyMpXMtHX7AqhN4BKm9JQWer",
      "include_colab_link": true
    },
    "kernelspec": {
      "name": "python3",
      "display_name": "Python 3"
    },
    "language_info": {
      "name": "python"
    }
  },
  "cells": [
    {
      "cell_type": "markdown",
      "metadata": {
        "id": "view-in-github",
        "colab_type": "text"
      },
      "source": [
        "<a href=\"https://colab.research.google.com/github/TOGE6/TEST/blob/In-class-assignments/In_class_assignments_edu.ipynb\" target=\"_parent\"><img src=\"https://colab.research.google.com/assets/colab-badge.svg\" alt=\"Open In Colab\"/></a>"
      ]
    },
    {
      "cell_type": "code",
      "execution_count": null,
      "metadata": {
        "colab": {
          "base_uri": "https://localhost:8080/"
        },
        "id": "pPvFHbK9DUWv",
        "outputId": "f4c45b18-2552-4fd5-b620-bed255c50ed7"
      },
      "outputs": [
        {
          "output_type": "stream",
          "name": "stdout",
          "text": [
            "please provide the radius: 6\n",
            "please provide the height: 8\n",
            "Area of cylander: 527.52 sq. ft\n"
          ]
        }
      ],
      "source": [
        "pi= 3.14\n",
        "radius= float(input('please provide the radius: '))\n",
        "height= float(input(\"please provide the height: \"))\n",
        "\n",
        "area= 2 * pi * radius**2 + 2 * pi * radius * height\n",
        "\n",
        "print(f'Area of cylander: {area} sq. ft')\n"
      ]
    },
    {
      "cell_type": "markdown",
      "source": [
        "innclass assignemnt 1^^^\n",
        "inclass assignemtn 2below\n",
        "\n",
        "\n",
        "3 input program 2 numbers and a symbol\n",
        "the program should print the out come of the number simbol number"
      ],
      "metadata": {
        "id": "JIe1b9qer4ZM"
      }
    },
    {
      "cell_type": "code",
      "source": [
        "\n",
        "    num1 = float(input(\"Enter first number: \"))\n",
        "    operator = input(\"Enter an operator (+, -, *, /): \")\n",
        "    num2 = float(input(\"Enter second number: \"))\n",
        "\n",
        "    if operator == '+':\n",
        "        result = num1 + num2\n",
        "    elif operator == '-':\n",
        "        result = num1 - num2\n",
        "    elif operator == '*':\n",
        "        result = num1 * num2\n",
        "    elif operator == '/':\n",
        "        if num2 == 0:\n",
        "            result = \"Error: Division by zero\"\n",
        "        else:\n",
        "            result = num1 / num2\n",
        "    else:\n",
        "        result = \"Error: Invalid operator\"\n",
        "\n",
        "    print(\"Result:\", result)\n",
        "\n",
        "\n",
        "\n"
      ],
      "metadata": {
        "colab": {
          "base_uri": "https://localhost:8080/"
        },
        "id": "a987itZ5sCpH",
        "outputId": "a123b8ce-ce1a-4dbf-ce25-e98525e3cadf"
      },
      "execution_count": 14,
      "outputs": [
        {
          "output_type": "stream",
          "name": "stdout",
          "text": [
            "Enter first number: 3\n",
            "Enter an operator (+, -, *, /): *\n",
            "Enter second number: 4\n",
            "Result: 12.0\n"
          ]
        }
      ]
    },
    {
      "cell_type": "markdown",
      "source": [
        "\n",
        "\n",
        "  \n"
      ],
      "metadata": {
        "id": "lEuaJ28rs8Qq"
      }
    },
    {
      "cell_type": "code",
      "source": [
        "teachers addition\n",
        "\n",
        "n1= float(input)"
      ],
      "metadata": {
        "id": "S7s9ubqdvzH4"
      },
      "execution_count": null,
      "outputs": []
    }
  ]
}