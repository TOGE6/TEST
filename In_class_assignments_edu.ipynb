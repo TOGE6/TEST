{
  "nbformat": 4,
  "nbformat_minor": 0,
  "metadata": {
    "colab": {
      "provenance": [],
      "authorship_tag": "ABX9TyMEqeUMRbIKkBuvU2pcaODM",
      "include_colab_link": true
    },
    "kernelspec": {
      "name": "python3",
      "display_name": "Python 3"
    },
    "language_info": {
      "name": "python"
    }
  },
  "cells": [
    {
      "cell_type": "markdown",
      "metadata": {
        "id": "view-in-github",
        "colab_type": "text"
      },
      "source": [
        "<a href=\"https://colab.research.google.com/github/TOGE6/TEST/blob/main/In_class_assignments_edu.ipynb\" target=\"_parent\"><img src=\"https://colab.research.google.com/assets/colab-badge.svg\" alt=\"Open In Colab\"/></a>"
      ]
    },
    {
      "cell_type": "code",
      "execution_count": null,
      "metadata": {
        "colab": {
          "base_uri": "https://localhost:8080/"
        },
        "id": "pPvFHbK9DUWv",
        "outputId": "f4c45b18-2552-4fd5-b620-bed255c50ed7"
      },
      "outputs": [
        {
          "output_type": "stream",
          "name": "stdout",
          "text": [
            "please provide the radius: 6\n",
            "please provide the height: 8\n",
            "Area of cylander: 527.52 sq. ft\n"
          ]
        }
      ],
      "source": [
        "pi= 3.14\n",
        "radius= float(input('please provide the radius: '))\n",
        "height= float(input(\"please provide the height: \"))\n",
        "\n",
        "area= 2 * pi * radius**2 + 2 * pi * radius * height\n",
        "\n",
        "print(f'Area of cylander: {area} sq. ft')\n"
      ]
    },
    {
      "cell_type": "code",
      "source": [
        "\n",
        "    num1 = float(input(\"Enter first number: \"))\n",
        "    operator = input(\"Enter an operator (+, -, *, /): \")\n",
        "    num2 = float(input(\"Enter second number: \"))\n",
        "\n",
        "    if operator == '+':\n",
        "        result = num1 + num2\n",
        "    elif operator == '-':\n",
        "        result = num1 - num2\n",
        "    elif operator == '*':\n",
        "        result = num1 * num2\n",
        "    elif operator == '/':\n",
        "        if num2 == 0:\n",
        "            result = \"Error: Division by zero\"\n",
        "        else:\n",
        "            result = num1 / num2\n",
        "    else:\n",
        "        result = \"Error: Invalid operator\"\n",
        "\n",
        "    print(\"Result:\", result)\n",
        "\n",
        "\n",
        "\n"
      ],
      "metadata": {
        "colab": {
          "base_uri": "https://localhost:8080/"
        },
        "id": "a987itZ5sCpH",
        "outputId": "a123b8ce-ce1a-4dbf-ce25-e98525e3cadf"
      },
      "execution_count": null,
      "outputs": [
        {
          "output_type": "stream",
          "name": "stdout",
          "text": [
            "Enter first number: 3\n",
            "Enter an operator (+, -, *, /): *\n",
            "Enter second number: 4\n",
            "Result: 12.0\n"
          ]
        }
      ]
    },
    {
      "cell_type": "markdown",
      "source": [
        "\n",
        "\n",
        "  \n"
      ],
      "metadata": {
        "id": "lEuaJ28rs8Qq"
      }
    },
    {
      "cell_type": "code",
      "source": [
        "for numberHours in range(1, 9):\n",
        "    fee = 5 + 2.5 * numberHours\n",
        "    if fee < 10:\n",
        "      fee = 10.0\n",
        "    elif fee > 20:\n",
        "      fee = 20.0\n",
        "    print(numberHours, fee)\n"
      ],
      "metadata": {
        "colab": {
          "base_uri": "https://localhost:8080/"
        },
        "id": "B8ok20KKbEB3",
        "outputId": "c65f15f2-6799-4df4-d60f-da5f17f20eb1"
      },
      "execution_count": null,
      "outputs": [
        {
          "output_type": "stream",
          "name": "stdout",
          "text": [
            "1 10.0\n",
            "2 10.0\n",
            "3 12.5\n",
            "4 15.0\n",
            "5 17.5\n",
            "6 20.0\n",
            "7 20.0\n",
            "8 20.0\n"
          ]
        }
      ]
    },
    {
      "cell_type": "code",
      "source": [
        "print(\"Ad Spending ($)  Profit ($)\")\n",
        "\n",
        "ticket_price = 10\n",
        "base_attendance = 20\n",
        "fixed_costs = 200\n",
        "\n",
        "for ad_spending in range(0, 201, 25):\n",
        "    additional_attendees = 2 * round(ad_spending)** .5\n",
        "    total_attendees = base_attendance + additional_attendees\n",
        "    revenue = total_attendees * ticket_price\n",
        "    profit = revenue - (ad_spending + fixed_costs)\n",
        "    print(f\"{ad_spending:<15}  {profit:<10}\")\n"
      ],
      "metadata": {
        "colab": {
          "base_uri": "https://localhost:8080/"
        },
        "id": "AMWCMAwmc6Y4",
        "outputId": "5a5f4640-f4c6-408b-c9d7-ade31f3b2fd3"
      },
      "execution_count": 1,
      "outputs": [
        {
          "output_type": "stream",
          "name": "stdout",
          "text": [
            "Ad Spending ($)  Profit ($)\n",
            "0                0.0       \n",
            "25               75.0      \n",
            "50               91.42135623730951\n",
            "75               98.20508075688781\n",
            "100              100.0     \n",
            "125              98.60679774997897\n",
            "150              94.94897427831779\n",
            "175              89.57513110645903\n",
            "200              82.84271247461902\n"
          ]
        }
      ]
    },
    {
      "cell_type": "code",
      "source": [
        "lst = []\n",
        "\n",
        "num = float(input(\"Enter a number: \"))\n",
        "\n",
        "while num != 0.0:\n",
        "  lst.append(num)\n",
        "  num = float(input(\"Enter a number: \"))\n",
        "\n",
        "lst.sort(reverse=True)\n",
        "print(lst)"
      ],
      "metadata": {
        "colab": {
          "base_uri": "https://localhost:8080/"
        },
        "id": "V4mcEjFHR8M4",
        "outputId": "4db27c76-855f-4b41-8da8-1c40d292de65"
      },
      "execution_count": null,
      "outputs": [
        {
          "output_type": "stream",
          "name": "stdout",
          "text": [
            "Enter a number: 3\n",
            "Enter a number: 4\n",
            "Enter a number: 2\n",
            "Enter a number: 0\n",
            "[4.0, 3.0, 2.0]\n"
          ]
        }
      ]
    },
    {
      "cell_type": "code",
      "source": [],
      "metadata": {
        "id": "QgZJo3HnTWLX"
      },
      "execution_count": null,
      "outputs": []
    },
    {
      "cell_type": "markdown",
      "source": [
        "In class assignment given an empty list, design a program that populates the list by repeatedly asking the user for numerical inputs. The process stops when the user gives a 0. finally the list should be displayed in decenting order"
      ],
      "metadata": {
        "id": "3q6aRC1gPLIt"
      }
    }
  ]
}